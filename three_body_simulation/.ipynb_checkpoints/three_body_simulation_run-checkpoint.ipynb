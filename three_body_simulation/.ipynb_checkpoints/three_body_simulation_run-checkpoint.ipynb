{
 "cells": [
  {
   "cell_type": "code",
   "execution_count": 2,
   "id": "1b3ddde4-4378-4048-9600-c41673412f68",
   "metadata": {},
   "outputs": [],
   "source": [
    "# Imported required modules and functions.\n",
    "import numpy as np\n",
    "import pandas as pd\n",
    "import matplotlib.pyplot as plt\n",
    "import project2_functions as pf\n",
    "from scipy.signal import find_peaks"
   ]
  },
  {
   "cell_type": "code",
   "execution_count": 4,
   "id": "d4304dd4-6d69-495c-9b33-459aba4ad8a8",
   "metadata": {},
   "outputs": [],
   "source": [
    "# Initial x and y values.\n",
    "x1 = 0.0\n",
    "y1 = 0.0\n",
    "x2 = 1.495E11\n",
    "y2 = 0.0\n",
    "x3 = 1.495E11\n",
    "y3 = 3.84E8"
   ]
  },
  {
   "cell_type": "code",
   "execution_count": 8,
   "id": "d42a4ddc-95e1-4a9c-8bcc-b9f89f1fa3f2",
   "metadata": {},
   "outputs": [],
   "source": [
    "# Initial positions and velocities (position in metres, velocity in metres/seconds).\n",
    "sun_position = np.array([x1, y1])\n",
    "earth_position = np.array([x2, y2])\n",
    "moon_position = np.array([x3, y3])\n",
    "\n",
    "sun_velocity = np.array([0.0, 0.0])\n",
    "earth_velocity = np.array([0.0, 2.978E4])\n",
    "moon_velocity = np.array([-1.022E3, 2.978E4])\n"
   ]
  },
  {
   "cell_type": "code",
   "execution_count": 10,
   "id": "4411095a-e0d2-4325-a5f2-a9d84fd42a35",
   "metadata": {},
   "outputs": [],
   "source": [
    "# Loop parameters.\n",
    "time = 0\n",
    "step = 0\n",
    "time_step = pf.hrs_to_scs(1)\n",
    "years = pf.yrs_to_scs(3)\n",
    "num_steps = int(years / time_step) + 1\n",
    "\n",
    "# Arrays of zeros to fill with the positions.\n",
    "sun_positions = np.zeros((num_steps, 2))\n",
    "earth_positions = np.zeros((num_steps, 2))\n",
    "moon_positions = np.zeros((num_steps, 2))"
   ]
  },
  {
   "cell_type": "code",
   "execution_count": 12,
   "id": "f1a4cd63-1d7f-4b91-8edf-5771193150ee",
   "metadata": {},
   "outputs": [],
   "source": [
    "# N-body simulation loop.\n",
    "while time < years:\n",
    "    # Verlet 'leap-frog' scheme.\n",
    "\n",
    "    # Calculated acceleration vectors by first calculating differences, magnitudes, unit position vectors, and force vectors.\n",
    "    sun_acceleration = pf.acceleration(sun_position, earth_position, moon_position)[0]\n",
    "    earth_acceleration = pf.acceleration(sun_position, earth_position, moon_position)[1]\n",
    "    moon_acceleration = pf.acceleration(sun_position, earth_position, moon_position)[2]\n",
    "\n",
    "    # Updated position vectors based on acceleration vectors.\n",
    "    sun_position = pf.position(sun_position, sun_velocity, sun_acceleration, time_step)\n",
    "    earth_position = pf.position(earth_position, earth_velocity, earth_acceleration, time_step)\n",
    "    moon_position = pf.position(moon_position, moon_velocity, moon_acceleration, time_step)\n",
    "\n",
    "    # Updated acceleration vectors based on new position vectors.\n",
    "    new_sun_acceleration = pf.acceleration(sun_position, earth_position, moon_position)[0]\n",
    "    new_earth_acceleration = pf.acceleration(sun_position, earth_position, moon_position)[1]\n",
    "    new_moon_acceleration = pf.acceleration(sun_position, earth_position, moon_position)[2]\n",
    "\n",
    "    # Updated velocity vectors based on new acceleration vectors.\n",
    "    sun_velocity = pf.velocity(sun_velocity, sun_acceleration, new_sun_acceleration, time_step)\n",
    "    earth_velocity = pf.velocity(earth_velocity, earth_acceleration, new_earth_acceleration, time_step)\n",
    "    moon_velocity = pf.velocity(moon_velocity, moon_acceleration, new_moon_acceleration, time_step)\n",
    "\n",
    "    # In each step of the loop, the position vectors replace zeros in the arrays.\n",
    "    sun_positions[step] = sun_position\n",
    "    earth_positions[step] = earth_position\n",
    "    moon_positions[step] = moon_position\n",
    "\n",
    "    # Time and step updated. \n",
    "    time += time_step\n",
    "    step += 1\n"
   ]
  },
  {
   "cell_type": "code",
   "execution_count": 14,
   "id": "c47b4653-d3b4-4716-aa85-d36fe81bc437",
   "metadata": {},
   "outputs": [
    {
     "data": {
      "text/html": [
       "<div>\n",
       "<style scoped>\n",
       "    .dataframe tbody tr th:only-of-type {\n",
       "        vertical-align: middle;\n",
       "    }\n",
       "\n",
       "    .dataframe tbody tr th {\n",
       "        vertical-align: top;\n",
       "    }\n",
       "\n",
       "    .dataframe thead th {\n",
       "        text-align: right;\n",
       "    }\n",
       "</style>\n",
       "<table border=\"1\" class=\"dataframe\">\n",
       "  <thead>\n",
       "    <tr style=\"text-align: right;\">\n",
       "      <th></th>\n",
       "      <th>x1</th>\n",
       "      <th>y1</th>\n",
       "      <th>x2</th>\n",
       "      <th>y2</th>\n",
       "      <th>x3</th>\n",
       "      <th>y3</th>\n",
       "    </tr>\n",
       "  </thead>\n",
       "  <tbody>\n",
       "    <tr>\n",
       "      <th>0</th>\n",
       "      <td>0.116913</td>\n",
       "      <td>3.649637e-06</td>\n",
       "      <td>1.495000e+11</td>\n",
       "      <td>1.072082e+08</td>\n",
       "      <td>1.494963e+11</td>\n",
       "      <td>4.911904e+08</td>\n",
       "    </tr>\n",
       "    <tr>\n",
       "      <th>1</th>\n",
       "      <td>0.467653</td>\n",
       "      <td>1.822784e-04</td>\n",
       "      <td>1.494998e+11</td>\n",
       "      <td>2.144168e+08</td>\n",
       "      <td>1.494925e+11</td>\n",
       "      <td>5.983455e+08</td>\n",
       "    </tr>\n",
       "    <tr>\n",
       "      <th>2</th>\n",
       "      <td>1.052218</td>\n",
       "      <td>7.035664e-04</td>\n",
       "      <td>1.494997e+11</td>\n",
       "      <td>3.216257e+08</td>\n",
       "      <td>1.494886e+11</td>\n",
       "      <td>7.054654e+08</td>\n",
       "    </tr>\n",
       "    <tr>\n",
       "      <th>3</th>\n",
       "      <td>1.870610</td>\n",
       "      <td>1.735194e-03</td>\n",
       "      <td>1.494994e+11</td>\n",
       "      <td>4.288349e+08</td>\n",
       "      <td>1.494847e+11</td>\n",
       "      <td>8.125498e+08</td>\n",
       "    </tr>\n",
       "    <tr>\n",
       "      <th>4</th>\n",
       "      <td>2.922828</td>\n",
       "      <td>3.444841e-03</td>\n",
       "      <td>1.494990e+11</td>\n",
       "      <td>5.360443e+08</td>\n",
       "      <td>1.494806e+11</td>\n",
       "      <td>9.195989e+08</td>\n",
       "    </tr>\n",
       "    <tr>\n",
       "      <th>...</th>\n",
       "      <td>...</td>\n",
       "      <td>...</td>\n",
       "      <td>...</td>\n",
       "      <td>...</td>\n",
       "      <td>...</td>\n",
       "      <td>...</td>\n",
       "    </tr>\n",
       "    <tr>\n",
       "      <th>26294</th>\n",
       "      <td>-3476.743123</td>\n",
       "      <td>8.561618e+06</td>\n",
       "      <td>1.494631e+11</td>\n",
       "      <td>3.055308e+09</td>\n",
       "      <td>1.498470e+11</td>\n",
       "      <td>3.125208e+09</td>\n",
       "    </tr>\n",
       "    <tr>\n",
       "      <th>26295</th>\n",
       "      <td>-3469.989391</td>\n",
       "      <td>8.561618e+06</td>\n",
       "      <td>1.494608e+11</td>\n",
       "      <td>3.162449e+09</td>\n",
       "      <td>1.498441e+11</td>\n",
       "      <td>3.235946e+09</td>\n",
       "    </tr>\n",
       "    <tr>\n",
       "      <th>26296</th>\n",
       "      <td>-3463.001880</td>\n",
       "      <td>8.561618e+06</td>\n",
       "      <td>1.494585e+11</td>\n",
       "      <td>3.269589e+09</td>\n",
       "      <td>1.498411e+11</td>\n",
       "      <td>3.346677e+09</td>\n",
       "    </tr>\n",
       "    <tr>\n",
       "      <th>26297</th>\n",
       "      <td>-3455.780595</td>\n",
       "      <td>8.561618e+06</td>\n",
       "      <td>1.494561e+11</td>\n",
       "      <td>3.376727e+09</td>\n",
       "      <td>1.498380e+11</td>\n",
       "      <td>3.457399e+09</td>\n",
       "    </tr>\n",
       "    <tr>\n",
       "      <th>26298</th>\n",
       "      <td>0.000000</td>\n",
       "      <td>0.000000e+00</td>\n",
       "      <td>0.000000e+00</td>\n",
       "      <td>0.000000e+00</td>\n",
       "      <td>0.000000e+00</td>\n",
       "      <td>0.000000e+00</td>\n",
       "    </tr>\n",
       "  </tbody>\n",
       "</table>\n",
       "<p>26299 rows × 6 columns</p>\n",
       "</div>"
      ],
      "text/plain": [
       "                x1            y1            x2            y2            x3  \\\n",
       "0         0.116913  3.649637e-06  1.495000e+11  1.072082e+08  1.494963e+11   \n",
       "1         0.467653  1.822784e-04  1.494998e+11  2.144168e+08  1.494925e+11   \n",
       "2         1.052218  7.035664e-04  1.494997e+11  3.216257e+08  1.494886e+11   \n",
       "3         1.870610  1.735194e-03  1.494994e+11  4.288349e+08  1.494847e+11   \n",
       "4         2.922828  3.444841e-03  1.494990e+11  5.360443e+08  1.494806e+11   \n",
       "...            ...           ...           ...           ...           ...   \n",
       "26294 -3476.743123  8.561618e+06  1.494631e+11  3.055308e+09  1.498470e+11   \n",
       "26295 -3469.989391  8.561618e+06  1.494608e+11  3.162449e+09  1.498441e+11   \n",
       "26296 -3463.001880  8.561618e+06  1.494585e+11  3.269589e+09  1.498411e+11   \n",
       "26297 -3455.780595  8.561618e+06  1.494561e+11  3.376727e+09  1.498380e+11   \n",
       "26298     0.000000  0.000000e+00  0.000000e+00  0.000000e+00  0.000000e+00   \n",
       "\n",
       "                 y3  \n",
       "0      4.911904e+08  \n",
       "1      5.983455e+08  \n",
       "2      7.054654e+08  \n",
       "3      8.125498e+08  \n",
       "4      9.195989e+08  \n",
       "...             ...  \n",
       "26294  3.125208e+09  \n",
       "26295  3.235946e+09  \n",
       "26296  3.346677e+09  \n",
       "26297  3.457399e+09  \n",
       "26298  0.000000e+00  \n",
       "\n",
       "[26299 rows x 6 columns]"
      ]
     },
     "execution_count": 14,
     "metadata": {},
     "output_type": "execute_result"
    }
   ],
   "source": [
    "# Final arrays converted into a dataframe.\n",
    "positions = pd.DataFrame({\n",
    "    'x1': sun_positions[:, 0],\n",
    "    'y1': sun_positions[:, 1],\n",
    "    'x2': earth_positions[:, 0],\n",
    "    'y2': earth_positions[:, 1],\n",
    "    'x3': moon_positions[:, 0],\n",
    "    'y3': moon_positions[:, 1]\n",
    "})\n",
    "positions"
   ]
  },
  {
   "cell_type": "code",
   "execution_count": 16,
   "id": "2a600f50-ca3d-44db-be27-9df68c5e16e6",
   "metadata": {},
   "outputs": [
    {
     "data": {
      "text/html": [
       "<div>\n",
       "<style scoped>\n",
       "    .dataframe tbody tr th:only-of-type {\n",
       "        vertical-align: middle;\n",
       "    }\n",
       "\n",
       "    .dataframe tbody tr th {\n",
       "        vertical-align: top;\n",
       "    }\n",
       "\n",
       "    .dataframe thead th {\n",
       "        text-align: right;\n",
       "    }\n",
       "</style>\n",
       "<table border=\"1\" class=\"dataframe\">\n",
       "  <thead>\n",
       "    <tr style=\"text-align: right;\">\n",
       "      <th></th>\n",
       "      <th>x1</th>\n",
       "      <th>y1</th>\n",
       "      <th>x2</th>\n",
       "      <th>y2</th>\n",
       "      <th>x3</th>\n",
       "      <th>y3</th>\n",
       "    </tr>\n",
       "  </thead>\n",
       "  <tbody>\n",
       "    <tr>\n",
       "      <th>0</th>\n",
       "      <td>0.0</td>\n",
       "      <td>0.0</td>\n",
       "      <td>1.495000e+11</td>\n",
       "      <td>0.0</td>\n",
       "      <td>1.495000e+11</td>\n",
       "      <td>384000000.0</td>\n",
       "    </tr>\n",
       "  </tbody>\n",
       "</table>\n",
       "</div>"
      ],
      "text/plain": [
       "    x1   y1            x2   y2            x3           y3\n",
       "0  0.0  0.0  1.495000e+11  0.0  1.495000e+11  384000000.0"
      ]
     },
     "execution_count": 16,
     "metadata": {},
     "output_type": "execute_result"
    }
   ],
   "source": [
    "# Initial positions converted into a dataframe.\n",
    "initial_positions = pd.DataFrame({\n",
    "    'x1': [x1],\n",
    "    'y1': [y1],\n",
    "    'x2': [x2],\n",
    "    'y2': [y2],\n",
    "    'x3': [x3],\n",
    "    'y3': [y3]\n",
    "})\n",
    "initial_positions"
   ]
  },
  {
   "cell_type": "code",
   "execution_count": 18,
   "id": "cc773045-b361-4550-8fc4-e92471da3f17",
   "metadata": {},
   "outputs": [
    {
     "data": {
      "text/html": [
       "<div>\n",
       "<style scoped>\n",
       "    .dataframe tbody tr th:only-of-type {\n",
       "        vertical-align: middle;\n",
       "    }\n",
       "\n",
       "    .dataframe tbody tr th {\n",
       "        vertical-align: top;\n",
       "    }\n",
       "\n",
       "    .dataframe thead th {\n",
       "        text-align: right;\n",
       "    }\n",
       "</style>\n",
       "<table border=\"1\" class=\"dataframe\">\n",
       "  <thead>\n",
       "    <tr style=\"text-align: right;\">\n",
       "      <th></th>\n",
       "      <th>x1</th>\n",
       "      <th>y1</th>\n",
       "      <th>x2</th>\n",
       "      <th>y2</th>\n",
       "      <th>x3</th>\n",
       "      <th>y3</th>\n",
       "    </tr>\n",
       "  </thead>\n",
       "  <tbody>\n",
       "    <tr>\n",
       "      <th>0</th>\n",
       "      <td>0.000000</td>\n",
       "      <td>0.000000e+00</td>\n",
       "      <td>1.495000e+11</td>\n",
       "      <td>0.000000e+00</td>\n",
       "      <td>1.495000e+11</td>\n",
       "      <td>3.840000e+08</td>\n",
       "    </tr>\n",
       "    <tr>\n",
       "      <th>1</th>\n",
       "      <td>0.116913</td>\n",
       "      <td>3.649637e-06</td>\n",
       "      <td>1.495000e+11</td>\n",
       "      <td>1.072082e+08</td>\n",
       "      <td>1.494963e+11</td>\n",
       "      <td>4.911904e+08</td>\n",
       "    </tr>\n",
       "    <tr>\n",
       "      <th>2</th>\n",
       "      <td>0.467653</td>\n",
       "      <td>1.822784e-04</td>\n",
       "      <td>1.494998e+11</td>\n",
       "      <td>2.144168e+08</td>\n",
       "      <td>1.494925e+11</td>\n",
       "      <td>5.983455e+08</td>\n",
       "    </tr>\n",
       "    <tr>\n",
       "      <th>3</th>\n",
       "      <td>1.052218</td>\n",
       "      <td>7.035664e-04</td>\n",
       "      <td>1.494997e+11</td>\n",
       "      <td>3.216257e+08</td>\n",
       "      <td>1.494886e+11</td>\n",
       "      <td>7.054654e+08</td>\n",
       "    </tr>\n",
       "    <tr>\n",
       "      <th>4</th>\n",
       "      <td>1.870610</td>\n",
       "      <td>1.735194e-03</td>\n",
       "      <td>1.494994e+11</td>\n",
       "      <td>4.288349e+08</td>\n",
       "      <td>1.494847e+11</td>\n",
       "      <td>8.125498e+08</td>\n",
       "    </tr>\n",
       "    <tr>\n",
       "      <th>...</th>\n",
       "      <td>...</td>\n",
       "      <td>...</td>\n",
       "      <td>...</td>\n",
       "      <td>...</td>\n",
       "      <td>...</td>\n",
       "      <td>...</td>\n",
       "    </tr>\n",
       "    <tr>\n",
       "      <th>26295</th>\n",
       "      <td>-3476.743123</td>\n",
       "      <td>8.561618e+06</td>\n",
       "      <td>1.494631e+11</td>\n",
       "      <td>3.055308e+09</td>\n",
       "      <td>1.498470e+11</td>\n",
       "      <td>3.125208e+09</td>\n",
       "    </tr>\n",
       "    <tr>\n",
       "      <th>26296</th>\n",
       "      <td>-3469.989391</td>\n",
       "      <td>8.561618e+06</td>\n",
       "      <td>1.494608e+11</td>\n",
       "      <td>3.162449e+09</td>\n",
       "      <td>1.498441e+11</td>\n",
       "      <td>3.235946e+09</td>\n",
       "    </tr>\n",
       "    <tr>\n",
       "      <th>26297</th>\n",
       "      <td>-3463.001880</td>\n",
       "      <td>8.561618e+06</td>\n",
       "      <td>1.494585e+11</td>\n",
       "      <td>3.269589e+09</td>\n",
       "      <td>1.498411e+11</td>\n",
       "      <td>3.346677e+09</td>\n",
       "    </tr>\n",
       "    <tr>\n",
       "      <th>26298</th>\n",
       "      <td>-3455.780595</td>\n",
       "      <td>8.561618e+06</td>\n",
       "      <td>1.494561e+11</td>\n",
       "      <td>3.376727e+09</td>\n",
       "      <td>1.498380e+11</td>\n",
       "      <td>3.457399e+09</td>\n",
       "    </tr>\n",
       "    <tr>\n",
       "      <th>26299</th>\n",
       "      <td>0.000000</td>\n",
       "      <td>0.000000e+00</td>\n",
       "      <td>0.000000e+00</td>\n",
       "      <td>0.000000e+00</td>\n",
       "      <td>0.000000e+00</td>\n",
       "      <td>0.000000e+00</td>\n",
       "    </tr>\n",
       "  </tbody>\n",
       "</table>\n",
       "<p>26300 rows × 6 columns</p>\n",
       "</div>"
      ],
      "text/plain": [
       "                x1            y1            x2            y2            x3  \\\n",
       "0         0.000000  0.000000e+00  1.495000e+11  0.000000e+00  1.495000e+11   \n",
       "1         0.116913  3.649637e-06  1.495000e+11  1.072082e+08  1.494963e+11   \n",
       "2         0.467653  1.822784e-04  1.494998e+11  2.144168e+08  1.494925e+11   \n",
       "3         1.052218  7.035664e-04  1.494997e+11  3.216257e+08  1.494886e+11   \n",
       "4         1.870610  1.735194e-03  1.494994e+11  4.288349e+08  1.494847e+11   \n",
       "...            ...           ...           ...           ...           ...   \n",
       "26295 -3476.743123  8.561618e+06  1.494631e+11  3.055308e+09  1.498470e+11   \n",
       "26296 -3469.989391  8.561618e+06  1.494608e+11  3.162449e+09  1.498441e+11   \n",
       "26297 -3463.001880  8.561618e+06  1.494585e+11  3.269589e+09  1.498411e+11   \n",
       "26298 -3455.780595  8.561618e+06  1.494561e+11  3.376727e+09  1.498380e+11   \n",
       "26299     0.000000  0.000000e+00  0.000000e+00  0.000000e+00  0.000000e+00   \n",
       "\n",
       "                 y3  \n",
       "0      3.840000e+08  \n",
       "1      4.911904e+08  \n",
       "2      5.983455e+08  \n",
       "3      7.054654e+08  \n",
       "4      8.125498e+08  \n",
       "...             ...  \n",
       "26295  3.125208e+09  \n",
       "26296  3.235946e+09  \n",
       "26297  3.346677e+09  \n",
       "26298  3.457399e+09  \n",
       "26299  0.000000e+00  \n",
       "\n",
       "[26300 rows x 6 columns]"
      ]
     },
     "execution_count": 18,
     "metadata": {},
     "output_type": "execute_result"
    }
   ],
   "source": [
    "# Initial positions and positions dataframes joined.\n",
    "planet_positions = pd.concat([initial_positions, positions], ignore_index=True)\n",
    "planet_positions"
   ]
  },
  {
   "cell_type": "code",
   "execution_count": 20,
   "id": "15241dd3-6ff6-49b5-9f1a-6388b3784edb",
   "metadata": {},
   "outputs": [],
   "source": [
    "# Dataframe converted to .csv file to run through animate_orbits.py. \n",
    "planet_positions.to_csv('orbit_positions.csv', index=False)"
   ]
  },
  {
   "cell_type": "markdown",
   "id": "4e16e5e8-b9f1-4896-af7b-6a6b38cdf0ef",
   "metadata": {},
   "source": [
    "![Animation](orbits.gif)"
   ]
  },
  {
   "cell_type": "markdown",
   "id": "db759de4-e81b-40ea-aea3-2229f3b4f654",
   "metadata": {},
   "source": [
    "Running the data through the animate_orbits.py function and having this gif produced, shows that the model produces a stable orbit. The gif above shows the Earths orbit around the Sun and the Moons orbit around the Earth."
   ]
  },
  {
   "cell_type": "code",
   "execution_count": 24,
   "id": "7ed003e8-b050-4255-bc55-cd8f8ed448ef",
   "metadata": {},
   "outputs": [],
   "source": [
    "# Dropped the last row of zeros in the planet_positions dataframe, so that the distances calculations are more accurate.\n",
    "valid_planet_positions = planet_positions.drop(index=26299)\n",
    "valid_sun_positions = np.array(valid_planet_positions[['x1', 'y1']])\n",
    "valid_earth_positions = np.array(valid_planet_positions[['x2', 'y2']])\n",
    "valid_moon_positions = np.array(valid_planet_positions[['x3', 'y3']])"
   ]
  },
  {
   "cell_type": "code",
   "execution_count": 26,
   "id": "a9f93fc9-4532-4b7d-ae5d-eccb8fcf7419",
   "metadata": {},
   "outputs": [
    {
     "data": {
      "text/plain": [
       "0.0005567176108834416"
      ]
     },
     "execution_count": 26,
     "metadata": {},
     "output_type": "execute_result"
    }
   ],
   "source": [
    "# Farthest and shortest distance between the Earth and Sun are calculated.\n",
    "earth_sun_distances = np.linalg.norm(valid_sun_positions - valid_earth_positions, axis=1)\n",
    "earth_sun_apoapsis = earth_sun_distances.max()\n",
    "earth_sun_periapsis = earth_sun_distances.min()\n",
    "\n",
    "# Earths eccentricity of the ellipse. \n",
    "earths_eccentricity = (earth_sun_apoapsis - earth_sun_periapsis) / (earth_sun_apoapsis + earth_sun_periapsis)\n",
    "earths_eccentricity"
   ]
  },
  {
   "cell_type": "markdown",
   "id": "90ff5f75-c998-44bc-954f-f8c4e2192314",
   "metadata": {},
   "source": [
    "Earth's orbital eccentricity measures how much Earth's orbit differs from a perfect circle, with 0 being a perfect circle. The number above shows that based off of my model, Earth's orbit is almost a perfect circle. Earth's actual orbital ecccentricity is 0.0167. The reason for this number output, 0.000557, may be that no other planets' force was taken into consideration when calculating."
   ]
  },
  {
   "cell_type": "code",
   "execution_count": 29,
   "id": "5f87070e-5a82-4f57-8260-b323bb74bd0d",
   "metadata": {},
   "outputs": [],
   "source": [
    "# Distances between the Sun and Moon and the Earth and Moon are calculated.\n",
    "sun_moon_distance = np.linalg.norm(valid_moon_positions - valid_sun_positions, axis=1)\n",
    "earth_moon_distance = np.linalg.norm(valid_moon_positions - valid_earth_positions, axis=1)\n",
    "\n",
    "# Differences between these distances calculated.\n",
    "moon_differences = earth_moon_distance - sun_moon_distance"
   ]
  },
  {
   "cell_type": "code",
   "execution_count": 31,
   "id": "2f80a7b8-597a-45a3-9753-f6ea78bbefc6",
   "metadata": {},
   "outputs": [
    {
     "data": {
      "text/plain": [
       "array([-1.48727940e+11, -1.48684142e+11, -1.48639816e+11, -1.48606110e+11,\n",
       "       -1.48591575e+11, -1.48599996e+11, -1.48629411e+11, -1.48672566e+11,\n",
       "       -1.48718730e+11, -1.48756359e+11, -1.48776019e+11, -1.48772757e+11,\n",
       "       -1.48747357e+11, -1.48706151e+11, -1.48659426e+11, -1.48618844e+11,\n",
       "       -1.48594503e+11, -1.48592417e+11, -1.48613024e+11, -1.48651085e+11,\n",
       "       -1.48697029e+11, -1.48739354e+11, -1.48767533e+11, -1.48774649e+11,\n",
       "       -1.48759109e+11, -1.48725005e+11, -1.48681052e+11, -1.48638329e+11,\n",
       "       -1.48607509e+11, -1.48596141e+11, -1.48606814e+11, -1.48636548e+11,\n",
       "       -1.48677615e+11, -1.48719528e+11, -1.48751738e+11, -1.48766287e+11,\n",
       "       -1.48759804e+11])"
      ]
     },
     "execution_count": 31,
     "metadata": {},
     "output_type": "execute_result"
    }
   ],
   "source": [
    "# scipy.signal.find_peaks function used to calculate the peaks.\n",
    "signal = np.array(moon_differences)\n",
    "peaks, _ = find_peaks(signal)\n",
    "signal[peaks]"
   ]
  },
  {
   "cell_type": "code",
   "execution_count": 33,
   "id": "b6a83792-b7b7-41c7-afe6-9f48f43cb84a",
   "metadata": {},
   "outputs": [
    {
     "data": {
      "text/plain": [
       "array([  181,   896,  1611,  2325,  3039,  3753,  4467,  5182,  5897,\n",
       "        6613,  7329,  8045,  8761,  9477, 10192, 10906, 11620, 12334,\n",
       "       13048, 13763, 14478, 15193, 15909, 16625, 17341, 18057, 18772,\n",
       "       19487, 20202, 20916, 21630, 22344, 23059, 23774, 24490, 25206,\n",
       "       25922])"
      ]
     },
     "execution_count": 33,
     "metadata": {},
     "output_type": "execute_result"
    }
   ],
   "source": [
    "peaks"
   ]
  },
  {
   "cell_type": "code",
   "execution_count": 35,
   "id": "01949f4f-7050-42fe-b941-c3385ca8acff",
   "metadata": {},
   "outputs": [
    {
     "data": {
      "text/plain": [
       "715.0"
      ]
     },
     "execution_count": 35,
     "metadata": {},
     "output_type": "execute_result"
    }
   ],
   "source": [
    "# Distance between two of the peaks calculated.\n",
    "orbital_moon_period = np.linalg.norm(peaks[2] - peaks[1])\n",
    "orbital_moon_period"
   ]
  },
  {
   "cell_type": "code",
   "execution_count": 37,
   "id": "004f7576-b73c-40f7-8111-90b135d05dc7",
   "metadata": {},
   "outputs": [
    {
     "data": {
      "text/plain": [
       "29.791666666666668"
      ]
     },
     "execution_count": 37,
     "metadata": {},
     "output_type": "execute_result"
    }
   ],
   "source": [
    "# 715 hours is roughly a month, suggesting based on this model the Moon's orbital period around the Earth lasts roughly a month.\n",
    "715/24"
   ]
  },
  {
   "cell_type": "code",
   "execution_count": 39,
   "id": "3100e41f-6b7c-4065-8436-6882a11fff78",
   "metadata": {},
   "outputs": [
    {
     "data": {
      "text/plain": [
       "array([-1.49116493e+11, -1.49113089e+11, -1.49109686e+11, ...,\n",
       "       -1.48729884e+11, -1.48727689e+11, -1.48725514e+11])"
      ]
     },
     "execution_count": 39,
     "metadata": {},
     "output_type": "execute_result"
    }
   ],
   "source": [
    "# Split array into 6 to view 6 months of the Moon's orbital period (3 years / 6 = 6 months).\n",
    "split_moon_differences = np.array_split(moon_differences, 6)\n",
    "split_moon_differences[0]"
   ]
  },
  {
   "cell_type": "code",
   "execution_count": 41,
   "id": "7e33c684-ccbf-4818-9e33-1a0cb50fd958",
   "metadata": {},
   "outputs": [
    {
     "data": {
      "text/plain": [
       "[Text(0.5, 0, '6 months (hrs)'),\n",
       " Text(0, 0.5, 'Sun to Moon distance - Earth to Moon distance (m)'),\n",
       " Text(0.5, 1.0, 'Difference between Sun to Moon and Earth to moon distances over half a year')]"
      ]
     },
     "execution_count": 41,
     "metadata": {},
     "output_type": "execute_result"
    },
    {
     "data": {
      "image/png": "[encoded data removed]",
      "text/plain": [
       "<Figure size 640x480 with 1 Axes>"
      ]
     },
     "metadata": {},
     "output_type": "display_data"
    }
   ],
   "source": [
    "# Plotted 6 months of the Moon's orbital period.\n",
    "fig, ax = plt.subplots()\n",
    "ax.plot(split_moon_differences[0])\n",
    "ax.set(xlabel='6 months (hrs)', ylabel='Sun to Moon distance - Earth to Moon distance (m)', title='Difference between Sun to Moon and Earth to moon distances over half a year')"
   ]
  },
  {
   "cell_type": "markdown",
   "id": "026d7e90-6eaa-4899-83b7-0cede8ec482b",
   "metadata": {},
   "source": [
    "This graph shows how the difference between distances goes up and down as the Moon completes its orbit of the Earth. Each peak is the start of a new orbit."
   ]
  },
  {
   "cell_type": "code",
   "execution_count": 44,
   "id": "e685e15a-c9d5-499e-b2c5-a69635e9603c",
   "metadata": {},
   "outputs": [],
   "source": [
    "# Reset initial positions and velocities for new N-body simulation loop run.\n",
    "sun_position = np.array([x1, y1])\n",
    "earth_position = np.array([x2, y2])\n",
    "moon_position = np.array([x3, y3])\n",
    "\n",
    "sun_velocity = np.array([0.0, 0.0])\n",
    "earth_velocity = np.array([0.0, 2.978E4])\n",
    "moon_velocity = np.array([-1.022E3, 2.978E4])\n"
   ]
  },
  {
   "cell_type": "code",
   "execution_count": 46,
   "id": "46c4ae86-6ab6-4280-96b5-31331da3a0c4",
   "metadata": {},
   "outputs": [],
   "source": [
    "# Reset loop parameters.\n",
    "time = 0\n",
    "step = 0\n",
    "time_step = pf.hrs_to_scs(1)\n",
    "years = pf.yrs_to_scs(3)\n",
    "num_steps = int(years / time_step) + 1\n",
    "\n",
    "# New arrays of zeros to fill with the positions.\n",
    "sun_positions_1 = np.zeros((num_steps, 2))\n",
    "earth_positions_1 = np.zeros((num_steps, 2))\n",
    "moon_positions_1 = np.zeros((num_steps, 2))"
   ]
  },
  {
   "cell_type": "code",
   "execution_count": 48,
   "id": "cbd19136-43cd-4a69-9e36-c90076a7f3e6",
   "metadata": {},
   "outputs": [],
   "source": [
    "# N-body simulation loop with altered Sun mass.\n",
    "while time < years:\n",
    "    # Verlet 'leap-frog' scheme.\n",
    "    \n",
    "    # Calculate acceleration vectors by first calculating differences, magnitudes, unit position vectors, and force vectors.\n",
    "    sun_acceleration = pf.acceleration(sun_position, earth_position, moon_position, sun_mass=2.7E30)[0]\n",
    "    earth_acceleration = pf.acceleration(sun_position, earth_position, moon_position, sun_mass=2.7E30)[1]\n",
    "    moon_acceleration = pf.acceleration(sun_position, earth_position, moon_position, sun_mass=2.7E30)[2]\n",
    "\n",
    "    # Updated position vectors based on acceleration vectors.\n",
    "    sun_position = pf.position(sun_position, sun_velocity, sun_acceleration, time_step)\n",
    "    earth_position = pf.position(earth_position, earth_velocity, earth_acceleration, time_step)\n",
    "    moon_position = pf.position(moon_position, moon_velocity, moon_acceleration, time_step)\n",
    "\n",
    "    # Updated acceleration vectors based on new position vectors.\n",
    "    new_sun_acceleration = pf.acceleration(sun_position, earth_position, moon_position, sun_mass=2.7E30)[0]\n",
    "    new_earth_acceleration = pf.acceleration(sun_position, earth_position, moon_position, sun_mass=2.7E30)[1]\n",
    "    new_moon_acceleration = pf.acceleration(sun_position, earth_position, moon_position, sun_mass=2.7E30)[2]\n",
    "\n",
    "    # Updated velocity vectors based on new acceleration vectors.\n",
    "    sun_velocity = pf.velocity(sun_velocity, sun_acceleration, new_sun_acceleration, time_step)\n",
    "    earth_velocity = pf.velocity(earth_velocity, earth_acceleration, new_earth_acceleration, time_step)\n",
    "    moon_velocity = pf.velocity(moon_velocity, moon_acceleration, new_moon_acceleration, time_step)\n",
    "\n",
    "    # In each step of the loop, the position vectors replace zeros in the arrays.\n",
    "    sun_positions_1[step] = sun_position\n",
    "    earth_positions_1[step] = earth_position\n",
    "    moon_positions_1[step] = moon_position\n",
    "\n",
    "    # Time and step updated. \n",
    "    time += time_step\n",
    "    step += 1\n"
   ]
  },
  {
   "cell_type": "code",
   "execution_count": 50,
   "id": "d99c2631-1218-48a0-bc75-63a71f9a8bb2",
   "metadata": {},
   "outputs": [
    {
     "data": {
      "text/html": [
       "<div>\n",
       "<style scoped>\n",
       "    .dataframe tbody tr th:only-of-type {\n",
       "        vertical-align: middle;\n",
       "    }\n",
       "\n",
       "    .dataframe tbody tr th {\n",
       "        vertical-align: top;\n",
       "    }\n",
       "\n",
       "    .dataframe thead th {\n",
       "        text-align: right;\n",
       "    }\n",
       "</style>\n",
       "<table border=\"1\" class=\"dataframe\">\n",
       "  <thead>\n",
       "    <tr style=\"text-align: right;\">\n",
       "      <th></th>\n",
       "      <th>x1</th>\n",
       "      <th>y1</th>\n",
       "      <th>x2</th>\n",
       "      <th>y2</th>\n",
       "      <th>x3</th>\n",
       "      <th>y3</th>\n",
       "    </tr>\n",
       "  </thead>\n",
       "  <tbody>\n",
       "    <tr>\n",
       "      <th>0</th>\n",
       "      <td>0.116913</td>\n",
       "      <td>3.649637e-06</td>\n",
       "      <td>1.494999e+11</td>\n",
       "      <td>1.072082e+08</td>\n",
       "      <td>1.494963e+11</td>\n",
       "      <td>4.911904e+08</td>\n",
       "    </tr>\n",
       "    <tr>\n",
       "      <th>1</th>\n",
       "      <td>0.467653</td>\n",
       "      <td>1.822785e-04</td>\n",
       "      <td>1.494998e+11</td>\n",
       "      <td>2.144168e+08</td>\n",
       "      <td>1.494924e+11</td>\n",
       "      <td>5.983454e+08</td>\n",
       "    </tr>\n",
       "    <tr>\n",
       "      <th>2</th>\n",
       "      <td>1.052219</td>\n",
       "      <td>7.035668e-04</td>\n",
       "      <td>1.494995e+11</td>\n",
       "      <td>3.216256e+08</td>\n",
       "      <td>1.494885e+11</td>\n",
       "      <td>7.054650e+08</td>\n",
       "    </tr>\n",
       "    <tr>\n",
       "      <th>3</th>\n",
       "      <td>1.870611</td>\n",
       "      <td>1.735196e-03</td>\n",
       "      <td>1.494992e+11</td>\n",
       "      <td>4.288347e+08</td>\n",
       "      <td>1.494845e+11</td>\n",
       "      <td>8.125490e+08</td>\n",
       "    </tr>\n",
       "    <tr>\n",
       "      <th>4</th>\n",
       "      <td>2.922830</td>\n",
       "      <td>3.444847e-03</td>\n",
       "      <td>1.494987e+11</td>\n",
       "      <td>5.360439e+08</td>\n",
       "      <td>1.494803e+11</td>\n",
       "      <td>9.195976e+08</td>\n",
       "    </tr>\n",
       "    <tr>\n",
       "      <th>...</th>\n",
       "      <td>...</td>\n",
       "      <td>...</td>\n",
       "      <td>...</td>\n",
       "      <td>...</td>\n",
       "      <td>...</td>\n",
       "      <td>...</td>\n",
       "    </tr>\n",
       "    <tr>\n",
       "      <th>26294</th>\n",
       "      <td>440.337710</td>\n",
       "      <td>6.351105e+06</td>\n",
       "      <td>1.481288e+11</td>\n",
       "      <td>-1.736899e+10</td>\n",
       "      <td>1.480234e+11</td>\n",
       "      <td>-1.708712e+10</td>\n",
       "    </tr>\n",
       "    <tr>\n",
       "      <th>26295</th>\n",
       "      <td>402.464327</td>\n",
       "      <td>6.351107e+06</td>\n",
       "      <td>1.481458e+11</td>\n",
       "      <td>-1.726275e+10</td>\n",
       "      <td>1.480360e+11</td>\n",
       "      <td>-1.698245e+10</td>\n",
       "    </tr>\n",
       "    <tr>\n",
       "      <th>26296</th>\n",
       "      <td>364.824298</td>\n",
       "      <td>6.351109e+06</td>\n",
       "      <td>1.481626e+11</td>\n",
       "      <td>-1.715649e+10</td>\n",
       "      <td>1.480486e+11</td>\n",
       "      <td>-1.687783e+10</td>\n",
       "    </tr>\n",
       "    <tr>\n",
       "      <th>26297</th>\n",
       "      <td>327.417629</td>\n",
       "      <td>6.351111e+06</td>\n",
       "      <td>1.481793e+11</td>\n",
       "      <td>-1.705022e+10</td>\n",
       "      <td>1.480610e+11</td>\n",
       "      <td>-1.677324e+10</td>\n",
       "    </tr>\n",
       "    <tr>\n",
       "      <th>26298</th>\n",
       "      <td>0.000000</td>\n",
       "      <td>0.000000e+00</td>\n",
       "      <td>0.000000e+00</td>\n",
       "      <td>0.000000e+00</td>\n",
       "      <td>0.000000e+00</td>\n",
       "      <td>0.000000e+00</td>\n",
       "    </tr>\n",
       "  </tbody>\n",
       "</table>\n",
       "<p>26299 rows × 6 columns</p>\n",
       "</div>"
      ],
      "text/plain": [
       "               x1            y1            x2            y2            x3  \\\n",
       "0        0.116913  3.649637e-06  1.494999e+11  1.072082e+08  1.494963e+11   \n",
       "1        0.467653  1.822785e-04  1.494998e+11  2.144168e+08  1.494924e+11   \n",
       "2        1.052219  7.035668e-04  1.494995e+11  3.216256e+08  1.494885e+11   \n",
       "3        1.870611  1.735196e-03  1.494992e+11  4.288347e+08  1.494845e+11   \n",
       "4        2.922830  3.444847e-03  1.494987e+11  5.360439e+08  1.494803e+11   \n",
       "...           ...           ...           ...           ...           ...   \n",
       "26294  440.337710  6.351105e+06  1.481288e+11 -1.736899e+10  1.480234e+11   \n",
       "26295  402.464327  6.351107e+06  1.481458e+11 -1.726275e+10  1.480360e+11   \n",
       "26296  364.824298  6.351109e+06  1.481626e+11 -1.715649e+10  1.480486e+11   \n",
       "26297  327.417629  6.351111e+06  1.481793e+11 -1.705022e+10  1.480610e+11   \n",
       "26298    0.000000  0.000000e+00  0.000000e+00  0.000000e+00  0.000000e+00   \n",
       "\n",
       "                 y3  \n",
       "0      4.911904e+08  \n",
       "1      5.983454e+08  \n",
       "2      7.054650e+08  \n",
       "3      8.125490e+08  \n",
       "4      9.195976e+08  \n",
       "...             ...  \n",
       "26294 -1.708712e+10  \n",
       "26295 -1.698245e+10  \n",
       "26296 -1.687783e+10  \n",
       "26297 -1.677324e+10  \n",
       "26298  0.000000e+00  \n",
       "\n",
       "[26299 rows x 6 columns]"
      ]
     },
     "execution_count": 50,
     "metadata": {},
     "output_type": "execute_result"
    }
   ],
   "source": [
    "# Final arrays converted into a dataframe.\n",
    "positions_1 = pd.DataFrame({\n",
    "    'x1': sun_positions_1[:, 0],\n",
    "    'y1': sun_positions_1[:, 1],\n",
    "    'x2': earth_positions_1[:, 0],\n",
    "    'y2': earth_positions_1[:, 1],\n",
    "    'x3': moon_positions_1[:, 0],\n",
    "    'y3': moon_positions_1[:, 1]\n",
    "})\n",
    "positions_1"
   ]
  },
  {
   "cell_type": "code",
   "execution_count": 54,
   "id": "4c1877c5-94e4-4b3c-87ac-e4c8c45226e5",
   "metadata": {},
   "outputs": [
    {
     "data": {
      "text/html": [
       "<div>\n",
       "<style scoped>\n",
       "    .dataframe tbody tr th:only-of-type {\n",
       "        vertical-align: middle;\n",
       "    }\n",
       "\n",
       "    .dataframe tbody tr th {\n",
       "        vertical-align: top;\n",
       "    }\n",
       "\n",
       "    .dataframe thead th {\n",
       "        text-align: right;\n",
       "    }\n",
       "</style>\n",
       "<table border=\"1\" class=\"dataframe\">\n",
       "  <thead>\n",
       "    <tr style=\"text-align: right;\">\n",
       "      <th></th>\n",
       "      <th>x1</th>\n",
       "      <th>y1</th>\n",
       "      <th>x2</th>\n",
       "      <th>y2</th>\n",
       "      <th>x3</th>\n",
       "      <th>y3</th>\n",
       "    </tr>\n",
       "  </thead>\n",
       "  <tbody>\n",
       "    <tr>\n",
       "      <th>0</th>\n",
       "      <td>0.000000</td>\n",
       "      <td>0.000000e+00</td>\n",
       "      <td>1.495000e+11</td>\n",
       "      <td>0.000000e+00</td>\n",
       "      <td>1.495000e+11</td>\n",
       "      <td>3.840000e+08</td>\n",
       "    </tr>\n",
       "    <tr>\n",
       "      <th>1</th>\n",
       "      <td>0.116913</td>\n",
       "      <td>3.649637e-06</td>\n",
       "      <td>1.494999e+11</td>\n",
       "      <td>1.072082e+08</td>\n",
       "      <td>1.494963e+11</td>\n",
       "      <td>4.911904e+08</td>\n",
       "    </tr>\n",
       "    <tr>\n",
       "      <th>2</th>\n",
       "      <td>0.467653</td>\n",
       "      <td>1.822785e-04</td>\n",
       "      <td>1.494998e+11</td>\n",
       "      <td>2.144168e+08</td>\n",
       "      <td>1.494924e+11</td>\n",
       "      <td>5.983454e+08</td>\n",
       "    </tr>\n",
       "    <tr>\n",
       "      <th>3</th>\n",
       "      <td>1.052219</td>\n",
       "      <td>7.035668e-04</td>\n",
       "      <td>1.494995e+11</td>\n",
       "      <td>3.216256e+08</td>\n",
       "      <td>1.494885e+11</td>\n",
       "      <td>7.054650e+08</td>\n",
       "    </tr>\n",
       "    <tr>\n",
       "      <th>4</th>\n",
       "      <td>1.870611</td>\n",
       "      <td>1.735196e-03</td>\n",
       "      <td>1.494992e+11</td>\n",
       "      <td>4.288347e+08</td>\n",
       "      <td>1.494845e+11</td>\n",
       "      <td>8.125490e+08</td>\n",
       "    </tr>\n",
       "    <tr>\n",
       "      <th>...</th>\n",
       "      <td>...</td>\n",
       "      <td>...</td>\n",
       "      <td>...</td>\n",
       "      <td>...</td>\n",
       "      <td>...</td>\n",
       "      <td>...</td>\n",
       "    </tr>\n",
       "    <tr>\n",
       "      <th>26295</th>\n",
       "      <td>440.337710</td>\n",
       "      <td>6.351105e+06</td>\n",
       "      <td>1.481288e+11</td>\n",
       "      <td>-1.736899e+10</td>\n",
       "      <td>1.480234e+11</td>\n",
       "      <td>-1.708712e+10</td>\n",
       "    </tr>\n",
       "    <tr>\n",
       "      <th>26296</th>\n",
       "      <td>402.464327</td>\n",
       "      <td>6.351107e+06</td>\n",
       "      <td>1.481458e+11</td>\n",
       "      <td>-1.726275e+10</td>\n",
       "      <td>1.480360e+11</td>\n",
       "      <td>-1.698245e+10</td>\n",
       "    </tr>\n",
       "    <tr>\n",
       "      <th>26297</th>\n",
       "      <td>364.824298</td>\n",
       "      <td>6.351109e+06</td>\n",
       "      <td>1.481626e+11</td>\n",
       "      <td>-1.715649e+10</td>\n",
       "      <td>1.480486e+11</td>\n",
       "      <td>-1.687783e+10</td>\n",
       "    </tr>\n",
       "    <tr>\n",
       "      <th>26298</th>\n",
       "      <td>327.417629</td>\n",
       "      <td>6.351111e+06</td>\n",
       "      <td>1.481793e+11</td>\n",
       "      <td>-1.705022e+10</td>\n",
       "      <td>1.480610e+11</td>\n",
       "      <td>-1.677324e+10</td>\n",
       "    </tr>\n",
       "    <tr>\n",
       "      <th>26299</th>\n",
       "      <td>0.000000</td>\n",
       "      <td>0.000000e+00</td>\n",
       "      <td>0.000000e+00</td>\n",
       "      <td>0.000000e+00</td>\n",
       "      <td>0.000000e+00</td>\n",
       "      <td>0.000000e+00</td>\n",
       "    </tr>\n",
       "  </tbody>\n",
       "</table>\n",
       "<p>26300 rows × 6 columns</p>\n",
       "</div>"
      ],
      "text/plain": [
       "               x1            y1            x2            y2            x3  \\\n",
       "0        0.000000  0.000000e+00  1.495000e+11  0.000000e+00  1.495000e+11   \n",
       "1        0.116913  3.649637e-06  1.494999e+11  1.072082e+08  1.494963e+11   \n",
       "2        0.467653  1.822785e-04  1.494998e+11  2.144168e+08  1.494924e+11   \n",
       "3        1.052219  7.035668e-04  1.494995e+11  3.216256e+08  1.494885e+11   \n",
       "4        1.870611  1.735196e-03  1.494992e+11  4.288347e+08  1.494845e+11   \n",
       "...           ...           ...           ...           ...           ...   \n",
       "26295  440.337710  6.351105e+06  1.481288e+11 -1.736899e+10  1.480234e+11   \n",
       "26296  402.464327  6.351107e+06  1.481458e+11 -1.726275e+10  1.480360e+11   \n",
       "26297  364.824298  6.351109e+06  1.481626e+11 -1.715649e+10  1.480486e+11   \n",
       "26298  327.417629  6.351111e+06  1.481793e+11 -1.705022e+10  1.480610e+11   \n",
       "26299    0.000000  0.000000e+00  0.000000e+00  0.000000e+00  0.000000e+00   \n",
       "\n",
       "                 y3  \n",
       "0      3.840000e+08  \n",
       "1      4.911904e+08  \n",
       "2      5.983454e+08  \n",
       "3      7.054650e+08  \n",
       "4      8.125490e+08  \n",
       "...             ...  \n",
       "26295 -1.708712e+10  \n",
       "26296 -1.698245e+10  \n",
       "26297 -1.687783e+10  \n",
       "26298 -1.677324e+10  \n",
       "26299  0.000000e+00  \n",
       "\n",
       "[26300 rows x 6 columns]"
      ]
     },
     "execution_count": 54,
     "metadata": {},
     "output_type": "execute_result"
    }
   ],
   "source": [
    "# Initial positions and positions_1 dataframes joined.\n",
    "planet_positions_1 = pd.concat([initial_positions, positions_1], ignore_index=True)\n",
    "planet_positions_1"
   ]
  },
  {
   "cell_type": "code",
   "execution_count": 56,
   "id": "78b81a3c-7b39-4c75-b433-4fef77454973",
   "metadata": {},
   "outputs": [],
   "source": [
    "# Dropped the last row of zeros in the planet_positions_1 dataframe, so that the distances calculations are more accurate.\n",
    "valid_planet_positions_1 = planet_positions_1.drop(index=26299)\n",
    "valid_sun_positions_1 = np.array(valid_planet_positions_1[['x1', 'y1']])\n",
    "valid_earth_positions_1 = np.array(valid_planet_positions_1[['x2', 'y2']])"
   ]
  },
  {
   "cell_type": "code",
   "execution_count": 58,
   "id": "835a3632-7a9e-478e-aed1-bfbc23bc3d65",
   "metadata": {},
   "outputs": [
    {
     "data": {
      "text/plain": [
       "0.26382441642654053"
      ]
     },
     "execution_count": 58,
     "metadata": {},
     "output_type": "execute_result"
    }
   ],
   "source": [
    "# Farthest and shortest distance between the Earth and Sun are calculated.\n",
    "earth_sun_distances_1 = np.linalg.norm(valid_sun_positions_1 - valid_earth_positions_1, axis=1)\n",
    "earth_sun_apoapsis_1 = earth_sun_distances_1.max()\n",
    "earth_sun_periapsis_1 = earth_sun_distances_1.min()\n",
    "\n",
    "# Earths eccentricity of the ellipse with increased Sun mass. \n",
    "earths_eccentricity_1 = (earth_sun_apoapsis_1 - earth_sun_periapsis_1) / (earth_sun_apoapsis_1 + earth_sun_periapsis_1)\n",
    "earths_eccentricity_1"
   ]
  },
  {
   "cell_type": "markdown",
   "id": "10b0b43f-f3f8-495f-a516-9af27cffcac8",
   "metadata": {},
   "source": [
    "Increasing the Sun's mass drastically changed the Earth's orbital eccentricity, making it significally differ from the shape of a perfect circle. If Earth's orbital eccentricity was actually 0.2638, this could effect the seasons or climate on Earth, as the distance between the Sun and Earth would vary more."
   ]
  },
  {
   "cell_type": "code",
   "execution_count": 61,
   "id": "fcab8d61-7eb5-4723-b8e5-6b411daff206",
   "metadata": {},
   "outputs": [],
   "source": [
    "# Reset initial positions and velocities for new N-body simulation loop.\n",
    "sun_position = np.array([x1, y1])\n",
    "earth_position = np.array([x2, y2])\n",
    "moon_position = np.array([x3, y3])\n",
    "\n",
    "sun_velocity = np.array([0.0, 0.0])\n",
    "earth_velocity = np.array([0.0, 2.978E4])\n",
    "moon_velocity = np.array([-1.022E3, 2.978E4])\n"
   ]
  },
  {
   "cell_type": "code",
   "execution_count": 63,
   "id": "e82800b8-865d-4837-9cd7-d323d3651cdc",
   "metadata": {},
   "outputs": [],
   "source": [
    "# Reset loop parameters.\n",
    "time = 0\n",
    "step = 0\n",
    "time_step = pf.hrs_to_scs(1)\n",
    "years = pf.yrs_to_scs(3)\n",
    "num_steps = int(years / time_step) + 1\n",
    "\n",
    "# New arrays of zeros to fill with the positions.\n",
    "sun_positions_2 = np.zeros((num_steps, 2))\n",
    "earth_positions_2 = np.zeros((num_steps, 2))\n",
    "moon_positions_2 = np.zeros((num_steps, 2))"
   ]
  },
  {
   "cell_type": "code",
   "execution_count": 65,
   "id": "3dfcb7cc-29ed-40f3-959f-9e582aa80f47",
   "metadata": {},
   "outputs": [],
   "source": [
    "# N-body simulation loop with altered Moon mass.\n",
    "while time < years:\n",
    "    # Verlet 'leap-frog' scheme.\n",
    "\n",
    "    # Calculate acceleration vectors by first calculating differences, magnitudes, unit position vectors, and force vectors.\n",
    "    sun_acceleration = pf.acceleration(sun_position, earth_position, moon_position, moon_mass=57E22)[0]\n",
    "    earth_acceleration = pf.acceleration(sun_position, earth_position, moon_position, moon_mass=57E22)[1]\n",
    "    moon_acceleration = pf.acceleration(sun_position, earth_position, moon_position, moon_mass=57E22)[2]\n",
    "\n",
    "    # Updated position vectors based on acceleration vectors.\n",
    "    sun_position = pf.position(sun_position, sun_velocity, sun_acceleration, time_step)\n",
    "    earth_position = pf.position(earth_position, earth_velocity, earth_acceleration, time_step)\n",
    "    moon_position = pf.position(moon_position, moon_velocity, moon_acceleration, time_step)\n",
    "\n",
    "    # Updated acceleration vectors based on new position vectors.\n",
    "    new_sun_acceleration = pf.acceleration(sun_position, earth_position, moon_position, moon_mass=57E22)[0]\n",
    "    new_earth_acceleration = pf.acceleration(sun_position, earth_position, moon_position, moon_mass=57E22)[1]\n",
    "    new_moon_acceleration = pf.acceleration(sun_position, earth_position, moon_position, moon_mass=57E22)[2]\n",
    "\n",
    "    # Updated velocity vectors based on new acceleration vectors.\n",
    "    sun_velocity = pf.velocity(sun_velocity, sun_acceleration, new_sun_acceleration, time_step)\n",
    "    earth_velocity = pf.velocity(earth_velocity, earth_acceleration, new_earth_acceleration, time_step)\n",
    "    moon_velocity = pf.velocity(moon_velocity, moon_acceleration, new_moon_acceleration, time_step)\n",
    "\n",
    "    # In each step of the loop, the position vectors replace zeros in the arrays.\n",
    "    sun_positions_2[step] = sun_position\n",
    "    earth_positions_2[step] = earth_position\n",
    "    moon_positions_2[step] = moon_position\n",
    "\n",
    "    # Time and step updated. \n",
    "    time += time_step\n",
    "    step += 1\n"
   ]
  },
  {
   "cell_type": "code",
   "execution_count": 67,
   "id": "0b00f8a8-3cc3-4267-9008-757550cf60d6",
   "metadata": {},
   "outputs": [
    {
     "data": {
      "text/html": [
       "<div>\n",
       "<style scoped>\n",
       "    .dataframe tbody tr th:only-of-type {\n",
       "        vertical-align: middle;\n",
       "    }\n",
       "\n",
       "    .dataframe tbody tr th {\n",
       "        vertical-align: top;\n",
       "    }\n",
       "\n",
       "    .dataframe thead th {\n",
       "        text-align: right;\n",
       "    }\n",
       "</style>\n",
       "<table border=\"1\" class=\"dataframe\">\n",
       "  <thead>\n",
       "    <tr style=\"text-align: right;\">\n",
       "      <th></th>\n",
       "      <th>x1</th>\n",
       "      <th>y1</th>\n",
       "      <th>x2</th>\n",
       "      <th>y2</th>\n",
       "      <th>x3</th>\n",
       "      <th>y3</th>\n",
       "    </tr>\n",
       "  </thead>\n",
       "  <tbody>\n",
       "    <tr>\n",
       "      <th>0</th>\n",
       "      <td>0.126515</td>\n",
       "      <td>2.831255e-05</td>\n",
       "      <td>1.495000e+11</td>\n",
       "      <td>1.072097e+08</td>\n",
       "      <td>1.494963e+11</td>\n",
       "      <td>4.911904e+08</td>\n",
       "    </tr>\n",
       "    <tr>\n",
       "      <th>1</th>\n",
       "      <td>0.506061</td>\n",
       "      <td>2.947055e-04</td>\n",
       "      <td>1.494998e+11</td>\n",
       "      <td>2.144226e+08</td>\n",
       "      <td>1.494925e+11</td>\n",
       "      <td>5.983455e+08</td>\n",
       "    </tr>\n",
       "    <tr>\n",
       "      <th>2</th>\n",
       "      <td>1.138638</td>\n",
       "      <td>9.806363e-04</td>\n",
       "      <td>1.494997e+11</td>\n",
       "      <td>3.216388e+08</td>\n",
       "      <td>1.494886e+11</td>\n",
       "      <td>7.054653e+08</td>\n",
       "    </tr>\n",
       "    <tr>\n",
       "      <th>3</th>\n",
       "      <td>2.024248</td>\n",
       "      <td>2.267564e-03</td>\n",
       "      <td>1.494994e+11</td>\n",
       "      <td>4.288582e+08</td>\n",
       "      <td>1.494847e+11</td>\n",
       "      <td>8.125498e+08</td>\n",
       "    </tr>\n",
       "    <tr>\n",
       "      <th>4</th>\n",
       "      <td>3.162890</td>\n",
       "      <td>4.336950e-03</td>\n",
       "      <td>1.494990e+11</td>\n",
       "      <td>5.360807e+08</td>\n",
       "      <td>1.494806e+11</td>\n",
       "      <td>9.195989e+08</td>\n",
       "    </tr>\n",
       "    <tr>\n",
       "      <th>...</th>\n",
       "      <td>...</td>\n",
       "      <td>...</td>\n",
       "      <td>...</td>\n",
       "      <td>...</td>\n",
       "      <td>...</td>\n",
       "      <td>...</td>\n",
       "    </tr>\n",
       "    <tr>\n",
       "      <th>26294</th>\n",
       "      <td>-27602.722155</td>\n",
       "      <td>9.264883e+06</td>\n",
       "      <td>1.494937e+11</td>\n",
       "      <td>3.059215e+09</td>\n",
       "      <td>1.491149e+11</td>\n",
       "      <td>2.972094e+09</td>\n",
       "    </tr>\n",
       "    <tr>\n",
       "      <th>26295</th>\n",
       "      <td>-27595.493695</td>\n",
       "      <td>9.264883e+06</td>\n",
       "      <td>1.494911e+11</td>\n",
       "      <td>3.166710e+09</td>\n",
       "      <td>1.491132e+11</td>\n",
       "      <td>3.076030e+09</td>\n",
       "    </tr>\n",
       "    <tr>\n",
       "      <th>26296</th>\n",
       "      <td>-27588.012232</td>\n",
       "      <td>9.264883e+06</td>\n",
       "      <td>1.494884e+11</td>\n",
       "      <td>3.274203e+09</td>\n",
       "      <td>1.491114e+11</td>\n",
       "      <td>3.179973e+09</td>\n",
       "    </tr>\n",
       "    <tr>\n",
       "      <th>26297</th>\n",
       "      <td>-27580.277768</td>\n",
       "      <td>9.264883e+06</td>\n",
       "      <td>1.494857e+11</td>\n",
       "      <td>3.381693e+09</td>\n",
       "      <td>1.491096e+11</td>\n",
       "      <td>3.283923e+09</td>\n",
       "    </tr>\n",
       "    <tr>\n",
       "      <th>26298</th>\n",
       "      <td>0.000000</td>\n",
       "      <td>0.000000e+00</td>\n",
       "      <td>0.000000e+00</td>\n",
       "      <td>0.000000e+00</td>\n",
       "      <td>0.000000e+00</td>\n",
       "      <td>0.000000e+00</td>\n",
       "    </tr>\n",
       "  </tbody>\n",
       "</table>\n",
       "<p>26299 rows × 6 columns</p>\n",
       "</div>"
      ],
      "text/plain": [
       "                 x1            y1            x2            y2            x3  \\\n",
       "0          0.126515  2.831255e-05  1.495000e+11  1.072097e+08  1.494963e+11   \n",
       "1          0.506061  2.947055e-04  1.494998e+11  2.144226e+08  1.494925e+11   \n",
       "2          1.138638  9.806363e-04  1.494997e+11  3.216388e+08  1.494886e+11   \n",
       "3          2.024248  2.267564e-03  1.494994e+11  4.288582e+08  1.494847e+11   \n",
       "4          3.162890  4.336950e-03  1.494990e+11  5.360807e+08  1.494806e+11   \n",
       "...             ...           ...           ...           ...           ...   \n",
       "26294 -27602.722155  9.264883e+06  1.494937e+11  3.059215e+09  1.491149e+11   \n",
       "26295 -27595.493695  9.264883e+06  1.494911e+11  3.166710e+09  1.491132e+11   \n",
       "26296 -27588.012232  9.264883e+06  1.494884e+11  3.274203e+09  1.491114e+11   \n",
       "26297 -27580.277768  9.264883e+06  1.494857e+11  3.381693e+09  1.491096e+11   \n",
       "26298      0.000000  0.000000e+00  0.000000e+00  0.000000e+00  0.000000e+00   \n",
       "\n",
       "                 y3  \n",
       "0      4.911904e+08  \n",
       "1      5.983455e+08  \n",
       "2      7.054653e+08  \n",
       "3      8.125498e+08  \n",
       "4      9.195989e+08  \n",
       "...             ...  \n",
       "26294  2.972094e+09  \n",
       "26295  3.076030e+09  \n",
       "26296  3.179973e+09  \n",
       "26297  3.283923e+09  \n",
       "26298  0.000000e+00  \n",
       "\n",
       "[26299 rows x 6 columns]"
      ]
     },
     "execution_count": 67,
     "metadata": {},
     "output_type": "execute_result"
    }
   ],
   "source": [
    "# Final arrays converted into a dataframe.\n",
    "positions_2 = pd.DataFrame({\n",
    "    'x1': sun_positions_2[:, 0],\n",
    "    'y1': sun_positions_2[:, 1],\n",
    "    'x2': earth_positions_2[:, 0],\n",
    "    'y2': earth_positions_2[:, 1],\n",
    "    'x3': moon_positions_2[:, 0],\n",
    "    'y3': moon_positions_2[:, 1]\n",
    "})\n",
    "positions_2"
   ]
  },
  {
   "cell_type": "code",
   "execution_count": 69,
   "id": "df2a869a-388e-4b85-8af0-94372a162ae6",
   "metadata": {},
   "outputs": [
    {
     "data": {
      "text/html": [
       "<div>\n",
       "<style scoped>\n",
       "    .dataframe tbody tr th:only-of-type {\n",
       "        vertical-align: middle;\n",
       "    }\n",
       "\n",
       "    .dataframe tbody tr th {\n",
       "        vertical-align: top;\n",
       "    }\n",
       "\n",
       "    .dataframe thead th {\n",
       "        text-align: right;\n",
       "    }\n",
       "</style>\n",
       "<table border=\"1\" class=\"dataframe\">\n",
       "  <thead>\n",
       "    <tr style=\"text-align: right;\">\n",
       "      <th></th>\n",
       "      <th>x1</th>\n",
       "      <th>y1</th>\n",
       "      <th>x2</th>\n",
       "      <th>y2</th>\n",
       "      <th>x3</th>\n",
       "      <th>y3</th>\n",
       "    </tr>\n",
       "  </thead>\n",
       "  <tbody>\n",
       "    <tr>\n",
       "      <th>0</th>\n",
       "      <td>0.000000</td>\n",
       "      <td>0.000000e+00</td>\n",
       "      <td>1.495000e+11</td>\n",
       "      <td>0.000000e+00</td>\n",
       "      <td>1.495000e+11</td>\n",
       "      <td>3.840000e+08</td>\n",
       "    </tr>\n",
       "    <tr>\n",
       "      <th>1</th>\n",
       "      <td>0.126515</td>\n",
       "      <td>2.831255e-05</td>\n",
       "      <td>1.495000e+11</td>\n",
       "      <td>1.072097e+08</td>\n",
       "      <td>1.494963e+11</td>\n",
       "      <td>4.911904e+08</td>\n",
       "    </tr>\n",
       "    <tr>\n",
       "      <th>2</th>\n",
       "      <td>0.506061</td>\n",
       "      <td>2.947055e-04</td>\n",
       "      <td>1.494998e+11</td>\n",
       "      <td>2.144226e+08</td>\n",
       "      <td>1.494925e+11</td>\n",
       "      <td>5.983455e+08</td>\n",
       "    </tr>\n",
       "    <tr>\n",
       "      <th>3</th>\n",
       "      <td>1.138638</td>\n",
       "      <td>9.806363e-04</td>\n",
       "      <td>1.494997e+11</td>\n",
       "      <td>3.216388e+08</td>\n",
       "      <td>1.494886e+11</td>\n",
       "      <td>7.054653e+08</td>\n",
       "    </tr>\n",
       "    <tr>\n",
       "      <th>4</th>\n",
       "      <td>2.024248</td>\n",
       "      <td>2.267564e-03</td>\n",
       "      <td>1.494994e+11</td>\n",
       "      <td>4.288582e+08</td>\n",
       "      <td>1.494847e+11</td>\n",
       "      <td>8.125498e+08</td>\n",
       "    </tr>\n",
       "    <tr>\n",
       "      <th>...</th>\n",
       "      <td>...</td>\n",
       "      <td>...</td>\n",
       "      <td>...</td>\n",
       "      <td>...</td>\n",
       "      <td>...</td>\n",
       "      <td>...</td>\n",
       "    </tr>\n",
       "    <tr>\n",
       "      <th>26295</th>\n",
       "      <td>-27602.722155</td>\n",
       "      <td>9.264883e+06</td>\n",
       "      <td>1.494937e+11</td>\n",
       "      <td>3.059215e+09</td>\n",
       "      <td>1.491149e+11</td>\n",
       "      <td>2.972094e+09</td>\n",
       "    </tr>\n",
       "    <tr>\n",
       "      <th>26296</th>\n",
       "      <td>-27595.493695</td>\n",
       "      <td>9.264883e+06</td>\n",
       "      <td>1.494911e+11</td>\n",
       "      <td>3.166710e+09</td>\n",
       "      <td>1.491132e+11</td>\n",
       "      <td>3.076030e+09</td>\n",
       "    </tr>\n",
       "    <tr>\n",
       "      <th>26297</th>\n",
       "      <td>-27588.012232</td>\n",
       "      <td>9.264883e+06</td>\n",
       "      <td>1.494884e+11</td>\n",
       "      <td>3.274203e+09</td>\n",
       "      <td>1.491114e+11</td>\n",
       "      <td>3.179973e+09</td>\n",
       "    </tr>\n",
       "    <tr>\n",
       "      <th>26298</th>\n",
       "      <td>-27580.277768</td>\n",
       "      <td>9.264883e+06</td>\n",
       "      <td>1.494857e+11</td>\n",
       "      <td>3.381693e+09</td>\n",
       "      <td>1.491096e+11</td>\n",
       "      <td>3.283923e+09</td>\n",
       "    </tr>\n",
       "    <tr>\n",
       "      <th>26299</th>\n",
       "      <td>0.000000</td>\n",
       "      <td>0.000000e+00</td>\n",
       "      <td>0.000000e+00</td>\n",
       "      <td>0.000000e+00</td>\n",
       "      <td>0.000000e+00</td>\n",
       "      <td>0.000000e+00</td>\n",
       "    </tr>\n",
       "  </tbody>\n",
       "</table>\n",
       "<p>26300 rows × 6 columns</p>\n",
       "</div>"
      ],
      "text/plain": [
       "                 x1            y1            x2            y2            x3  \\\n",
       "0          0.000000  0.000000e+00  1.495000e+11  0.000000e+00  1.495000e+11   \n",
       "1          0.126515  2.831255e-05  1.495000e+11  1.072097e+08  1.494963e+11   \n",
       "2          0.506061  2.947055e-04  1.494998e+11  2.144226e+08  1.494925e+11   \n",
       "3          1.138638  9.806363e-04  1.494997e+11  3.216388e+08  1.494886e+11   \n",
       "4          2.024248  2.267564e-03  1.494994e+11  4.288582e+08  1.494847e+11   \n",
       "...             ...           ...           ...           ...           ...   \n",
       "26295 -27602.722155  9.264883e+06  1.494937e+11  3.059215e+09  1.491149e+11   \n",
       "26296 -27595.493695  9.264883e+06  1.494911e+11  3.166710e+09  1.491132e+11   \n",
       "26297 -27588.012232  9.264883e+06  1.494884e+11  3.274203e+09  1.491114e+11   \n",
       "26298 -27580.277768  9.264883e+06  1.494857e+11  3.381693e+09  1.491096e+11   \n",
       "26299      0.000000  0.000000e+00  0.000000e+00  0.000000e+00  0.000000e+00   \n",
       "\n",
       "                 y3  \n",
       "0      3.840000e+08  \n",
       "1      4.911904e+08  \n",
       "2      5.983455e+08  \n",
       "3      7.054653e+08  \n",
       "4      8.125498e+08  \n",
       "...             ...  \n",
       "26295  2.972094e+09  \n",
       "26296  3.076030e+09  \n",
       "26297  3.179973e+09  \n",
       "26298  3.283923e+09  \n",
       "26299  0.000000e+00  \n",
       "\n",
       "[26300 rows x 6 columns]"
      ]
     },
     "execution_count": 69,
     "metadata": {},
     "output_type": "execute_result"
    }
   ],
   "source": [
    "# Initial positions and positions_2 dataframes joined.\n",
    "planet_positions_2 = pd.concat([initial_positions, positions_2], ignore_index=True)\n",
    "planet_positions_2"
   ]
  },
  {
   "cell_type": "code",
   "execution_count": 71,
   "id": "5f56d2e9-fcbd-47f3-b17f-7f2ad8fc6bed",
   "metadata": {},
   "outputs": [],
   "source": [
    "# Dropped the last row of zeros in the planet_positions_2 dataframe, so that the distances calculations are more accurate.\n",
    "valid_planet_positions_2 = planet_positions_2.drop(index=26299)\n",
    "valid_sun_positions_2 = np.array(valid_planet_positions_2[['x1', 'y1']])\n",
    "valid_earth_positions_2 = np.array(valid_planet_positions_2[['x2', 'y2']])\n",
    "valid_moon_positions_2 = np.array(valid_planet_positions_2[['x3', 'y3']])"
   ]
  },
  {
   "cell_type": "code",
   "execution_count": 73,
   "id": "70f09bdb-1ea3-4725-936e-cb2d16d5b579",
   "metadata": {},
   "outputs": [],
   "source": [
    "# Distances between the Sun and Moon, and Earth and Moon are calculated.\n",
    "sun_moon_distance_2 = np.linalg.norm(valid_moon_positions_2 - valid_sun_positions_2, axis=1)\n",
    "earth_moon_distance_2 = np.linalg.norm(valid_moon_positions_2 - valid_earth_positions_2, axis=1)\n",
    "\n",
    "# Differences between these distances calculated.\n",
    "moon_differences_2 = earth_moon_distance_2 - sun_moon_distance_2"
   ]
  },
  {
   "cell_type": "code",
   "execution_count": 75,
   "id": "a2b3eae4-60da-4da4-9208-7bfa6353809c",
   "metadata": {},
   "outputs": [
    {
     "data": {
      "text/plain": [
       "array([-1.48777498e+11, -1.48624108e+11, -1.48497989e+11, -1.48423359e+11,\n",
       "       -1.48414582e+11, -1.48473366e+11, -1.48588420e+11, -1.48737670e+11,\n",
       "       -1.48892507e+11, -1.49023244e+11, -1.49104751e+11, -1.49121227e+11,\n",
       "       -1.49069259e+11, -1.48958548e+11, -1.48810051e+11, -1.48652035e+11,\n",
       "       -1.48514706e+11, -1.48424525e+11, -1.48399130e+11, -1.48443872e+11,\n",
       "       -1.48550667e+11, -1.48699457e+11, -1.48862077e+11, -1.49007574e+11,\n",
       "       -1.49108076e+11, -1.49144063e+11, -1.49108106e+11, -1.49006401e+11,\n",
       "       -1.48857698e+11, -1.48689826e+11, -1.48534445e+11, -1.48421144e+11,\n",
       "       -1.48371843e+11, -1.48396611e+11, -1.48491561e+11, -1.48639407e+11,\n",
       "       -1.48812655e+11, -1.48978781e+11, -1.49106395e+11, -1.49171101e+11,\n",
       "       -1.49160111e+11, -1.49074724e+11, -1.48930238e+11, -1.48753200e+11])"
      ]
     },
     "execution_count": 75,
     "metadata": {},
     "output_type": "execute_result"
    }
   ],
   "source": [
    "# scipy.signal.find_peaks function used to calculate the peaks.\n",
    "signal = np.array(moon_differences_2)\n",
    "peaks, _ = find_peaks(signal)\n",
    "signal[peaks]"
   ]
  },
  {
   "cell_type": "code",
   "execution_count": 77,
   "id": "c6658800-e20f-4420-a639-7e2a398896b7",
   "metadata": {},
   "outputs": [
    {
     "data": {
      "text/plain": [
       "array([  159,   765,  1371,  1976,  2581,  3187,  3792,  4399,  5006,\n",
       "        5615,  6225,  6836,  7446,  8055,  8664,  9270,  9876, 10481,\n",
       "       11086, 11691, 12297, 12903, 13511, 14119, 14729, 15340, 15950,\n",
       "       16560, 17169, 17776, 18382, 18987, 19591, 20195, 20801, 21407,\n",
       "       22014, 22623, 23233, 23843, 24454, 25065, 25674, 26282])"
      ]
     },
     "execution_count": 77,
     "metadata": {},
     "output_type": "execute_result"
    }
   ],
   "source": [
    "peaks"
   ]
  },
  {
   "cell_type": "code",
   "execution_count": 79,
   "id": "a0bf0509-6936-4f24-8ff3-9eb741fac642",
   "metadata": {},
   "outputs": [
    {
     "data": {
      "text/plain": [
       "606.0"
      ]
     },
     "execution_count": 79,
     "metadata": {},
     "output_type": "execute_result"
    }
   ],
   "source": [
    "# Distance between two of the peaks calculated.\n",
    "orbital_moon_period_2 = np.linalg.norm(peaks[2] - peaks[1])\n",
    "orbital_moon_period_2"
   ]
  },
  {
   "cell_type": "code",
   "execution_count": 81,
   "id": "be6bb3ef-ae72-41b6-b2f4-e29c42323553",
   "metadata": {},
   "outputs": [
    {
     "data": {
      "text/plain": [
       "25.25"
      ]
     },
     "execution_count": 81,
     "metadata": {},
     "output_type": "execute_result"
    }
   ],
   "source": [
    "# This means that, based on this model, the Moon's orbital period around the Earth lasts roughly 25 days. \n",
    "606/24"
   ]
  },
  {
   "cell_type": "code",
   "execution_count": 83,
   "id": "e51d020b-461d-48f6-aba5-d1606ec556e8",
   "metadata": {},
   "outputs": [
    {
     "data": {
      "text/plain": [
       "array([-1.49116493e+11, -1.49113091e+11, -1.49109692e+11, ...,\n",
       "       -1.48743256e+11, -1.48742643e+11, -1.48742066e+11])"
      ]
     },
     "execution_count": 83,
     "metadata": {},
     "output_type": "execute_result"
    }
   ],
   "source": [
    "# Split array into 6 to view 6 months of the Moon's orbital period (3 years / 6 = 6 months)\n",
    "split_moon_differences_2 = np.array_split(moon_differences_2, 6)\n",
    "split_moon_differences_2[0]"
   ]
  },
  {
   "cell_type": "code",
   "execution_count": 85,
   "id": "abf26378-f3f4-4f3d-9c16-98e0abed2fd3",
   "metadata": {},
   "outputs": [
    {
     "data": {
      "text/plain": [
       "[Text(0.5, 0, '6 months (hrs)'),\n",
       " Text(0, 0.5, 'Sun to Moon distance - Earth to Moon distance (m)'),\n",
       " Text(0.5, 1.0, 'Difference between Sun to Moon and Earth to moon distances over half a year')]"
      ]
     },
     "execution_count": 85,
     "metadata": {},
     "output_type": "execute_result"
    },
    {
     "data": {
      "image/png": "[encoded data removed]",
      "text/plain": [
       "<Figure size 640x480 with 1 Axes>"
      ]
     },
     "metadata": {},
     "output_type": "display_data"
    }
   ],
   "source": [
    "# Plotted 6 months of the Moon's orbital period.\n",
    "fig, ax = plt.subplots()\n",
    "ax.plot(split_moon_differences_2[0])\n",
    "ax.set(xlabel='6 months (hrs)', ylabel='Sun to Moon distance - Earth to Moon distance (m)', title='Difference between Sun to Moon and Earth to moon distances over half a year')"
   ]
  },
  {
   "cell_type": "markdown",
   "id": "292df9e5-e6b8-4ef0-a9f9-81a152c6af2a",
   "metadata": {},
   "source": [
    "Adding 50 lunar masses to the Moon's mass has caused the Moon's orbits of Earth to be much shorter, lasting roughly 25 days. The difference between the distances also vary more compared to when the orbit was stable. This could be due to the Moon's force being greater on the Earth and Sun."
   ]
  },
  {
   "cell_type": "markdown",
   "id": "7302202f-4585-43d1-a7f5-6d04f571c71e",
   "metadata": {},
   "source": [
    "Further investigation into how the increased Moon mass affects the Earth's positions is carried out below."
   ]
  },
  {
   "cell_type": "code",
   "execution_count": 89,
   "id": "08792f3b-75fb-4e19-ba4a-8683fad614e3",
   "metadata": {},
   "outputs": [
    {
     "data": {
      "text/plain": [
       "array([[1.49500000e+11, 0.00000000e+00],\n",
       "       [1.49499962e+11, 1.07208215e+08],\n",
       "       [1.49499846e+11, 2.14416806e+08],\n",
       "       ...,\n",
       "       [1.49460821e+11, 3.16244944e+09],\n",
       "       [1.49458486e+11, 3.26958910e+09],\n",
       "       [1.49456075e+11, 3.37672717e+09]])"
      ]
     },
     "execution_count": 89,
     "metadata": {},
     "output_type": "execute_result"
    }
   ],
   "source": [
    "# Original Earth positional data from first simulation where no masses were changed.\n",
    "valid_earth_positions"
   ]
  },
  {
   "cell_type": "code",
   "execution_count": 91,
   "id": "ddec6856-bf7c-4226-8232-4b7bed0ab41a",
   "metadata": {},
   "outputs": [
    {
     "data": {
      "text/plain": [
       "array([[1.49500000e+11, 0.00000000e+00],\n",
       "       [1.49499962e+11, 1.07209671e+08],\n",
       "       [1.49499846e+11, 2.14422628e+08],\n",
       "       ...,\n",
       "       [1.49491091e+11, 3.16671040e+09],\n",
       "       [1.49488417e+11, 3.27420306e+09],\n",
       "       [1.49485663e+11, 3.38169325e+09]])"
      ]
     },
     "execution_count": 91,
     "metadata": {},
     "output_type": "execute_result"
    }
   ],
   "source": [
    "# Most recent Earth positional data where Moon's mass was increased to 57E22.\n",
    "valid_earth_positions_2"
   ]
  },
  {
   "cell_type": "markdown",
   "id": "694db8f6-ce68-48fd-ae4d-f23723945ed0",
   "metadata": {},
   "source": [
    "Slight changes in the Earth's positional data can be observed, this is explored further by calculating the Earth's eccentricity with the increased Moon mass positional data. "
   ]
  },
  {
   "cell_type": "code",
   "execution_count": 94,
   "id": "a8b3a3db-a9f9-4dc6-99bf-354a67d0db9d",
   "metadata": {},
   "outputs": [
    {
     "data": {
      "text/plain": [
       "0.0005567176108834416"
      ]
     },
     "execution_count": 94,
     "metadata": {},
     "output_type": "execute_result"
    }
   ],
   "source": [
    "# Earth's eccentricity from positional data produced from the first simulation where no masses were changed. \n",
    "earths_eccentricity"
   ]
  },
  {
   "cell_type": "code",
   "execution_count": 96,
   "id": "bc44d771-e5d3-4f61-8cb7-7cb92eb6c12c",
   "metadata": {},
   "outputs": [
    {
     "data": {
      "text/plain": [
       "0.0030094032870411746"
      ]
     },
     "execution_count": 96,
     "metadata": {},
     "output_type": "execute_result"
    }
   ],
   "source": [
    "# Farthest and shortest distance between the Earth and Sun are calculated.\n",
    "earth_sun_distances_2 = np.linalg.norm(valid_sun_positions_2 - valid_earth_positions_2, axis=1)\n",
    "earth_sun_apoapsis_2 = earth_sun_distances_2.max()\n",
    "earth_sun_periapsis_2 = earth_sun_distances_2.min()\n",
    "\n",
    "# Earths eccentricity of the ellipse with increased Moon mass.\n",
    "earths_eccentricity_2 = (earth_sun_apoapsis_2 - earth_sun_periapsis_2) / (earth_sun_apoapsis_2 + earth_sun_periapsis_2)\n",
    "earths_eccentricity_2"
   ]
  },
  {
   "cell_type": "code",
   "execution_count": 98,
   "id": "272a1944-fbb7-4ffd-80f9-59d390004f63",
   "metadata": {},
   "outputs": [
    {
     "data": {
      "text/plain": [
       "0.002452685676157733"
      ]
     },
     "execution_count": 98,
     "metadata": {},
     "output_type": "execute_result"
    }
   ],
   "source": [
    "# Difference between the two values.\n",
    "earths_eccentricity_2 - earths_eccentricity"
   ]
  },
  {
   "cell_type": "markdown",
   "id": "4097a242-4f06-4bf2-a1f1-ac9c2368d52a",
   "metadata": {},
   "source": [
    "This difference shows that if the Moon's mass was increased to 57E22, the Earth's orbital eccentricity would increase by 0.00245. This increase could effect the Earth's seasons and climate."
   ]
  }
 ],
 "metadata": {
  "kernelspec": {
   "display_name": "Python 3 (ipykernel)",
   "language": "python",
   "name": "python3"
  },
  "language_info": {
   "codemirror_mode": {
    "name": "ipython",
    "version": 3
   },
   "file_extension": ".py",
   "mimetype": "text/x-python",
   "name": "python",
   "nbconvert_exporter": "python",
   "pygments_lexer": "ipython3",
   "version": "3.12.4"
  }
 },
 "nbformat": 4,
 "nbformat_minor": 5
}
